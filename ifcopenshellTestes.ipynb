{
 "cells": [
  {
   "cell_type": "markdown",
   "metadata": {},
   "source": [
    "Importa as bibliotecas"
   ]
  },
  {
   "cell_type": "code",
   "execution_count": 112,
   "metadata": {},
   "outputs": [],
   "source": [
    "# importa os módulos necessários\n",
    "import sys\n",
    "import ifcopenshell\n",
    "import ifcopenshell.util.element\n",
    "import json\n",
    "from json import JSONEncoder\n",
    "#import pprint\n"
   ]
  },
  {
   "cell_type": "markdown",
   "metadata": {},
   "source": [
    "Importa o IFC"
   ]
  },
  {
   "cell_type": "code",
   "execution_count": 113,
   "metadata": {},
   "outputs": [],
   "source": [
    "# Carrega o arquivo IFC\n",
    "ifcFile = ifcopenshell.open(\"816A-ARQ -PAV.TIPO-3D.R03.ifc\")"
   ]
  },
  {
   "cell_type": "markdown",
   "metadata": {},
   "source": [
    "Pega todos os elementos do IFC"
   ]
  },
  {
   "cell_type": "code",
   "execution_count": 114,
   "metadata": {},
   "outputs": [],
   "source": [
    "# Pega todos os elementos do Ifc\n",
    "elements = ifcFile.by_type(\"ifcBuildingElement\")\n",
    "\n",
    "# Listas para guardar os dados\n",
    "formatedElements = []\n",
    "\n",
    "# Classe do elemento formatado como será salvo no JSON\n",
    "class FormatedElement:\n",
    "    def __init__(self, name, globalId, info, propertySets, material):\n",
    "        self.name = name\n",
    "        self.globalId = globalId\n",
    "        self.info = info\n",
    "        self.propertySets = psets\n",
    "        self.material = mat\n",
    "    \n",
    "# Classe que configura o JSON para aceitar a classe\n",
    "class Encoder(JSONEncoder):\n",
    "    def default(self,o):\n",
    "        return o.__dict__\n",
    "\n",
    "# Função que irá realizar a extração de dados (futura)\n",
    "def TransformToClass(b):\n",
    "    a = 10 + b\n",
    "    return a \n",
    "\n",
    "# Cria um novo objeto com as propriedades definidas    \n",
    "for item in elements:\n",
    "    #info = item.get_info()\n",
    "    info = 0\n",
    "    psets = ifcopenshell.util.element.get_psets(item)\n",
    "    mat = ifcopenshell.util.element.get_material(item)\n",
    "    formEle = FormatedElement(item.Name, item.GlobalId, info, psets, mat)\n",
    "    formatedElements.append(Encoder().encode(formEle))\n"
   ]
  },
  {
   "cell_type": "markdown",
   "metadata": {},
   "source": [
    "Export um JSON"
   ]
  },
  {
   "cell_type": "code",
   "execution_count": 117,
   "metadata": {},
   "outputs": [],
   "source": [
    "#pp = pprint.PrettyPrinter(indent=4)\n",
    "#pp.pprint(json.loads(item))\n",
    "\n",
    "# Salva um arquivo json\n",
    "with open('teste.json', 'w') as outfile:\n",
    "    for item in formatedElements:\n",
    "        json.dump(json.loads(item), outfile, indent=4, sort_keys=True)\n",
    "        outfile.write('\\n')\n"
   ]
  },
  {
   "cell_type": "markdown",
   "metadata": {},
   "source": []
  }
 ],
 "metadata": {
  "interpreter": {
   "hash": "f9502a4368447ccedec04e9f03b977d89f92472f3a21fd42211279b3f94a1bce"
  },
  "kernelspec": {
   "display_name": "Python 3.9.2 64-bit",
   "name": "python3"
  },
  "language_info": {
   "codemirror_mode": {
    "name": "ipython",
    "version": 3
   },
   "file_extension": ".py",
   "mimetype": "text/x-python",
   "name": "python",
   "nbconvert_exporter": "python",
   "pygments_lexer": "ipython3",
   "version": "3.9.2"
  },
  "orig_nbformat": 4
 },
 "nbformat": 4,
 "nbformat_minor": 2
}
