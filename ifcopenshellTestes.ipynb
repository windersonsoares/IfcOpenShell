{
 "cells": [
  {
   "cell_type": "markdown",
   "metadata": {},
   "source": [
    "Importa as bibliotecas"
   ]
  },
  {
   "cell_type": "code",
   "execution_count": 140,
   "metadata": {},
   "outputs": [],
   "source": [
    "# importa os módulos necessários\n",
    "import sys\n",
    "import ifcopenshell\n",
    "import ifcopenshell.util.element\n",
    "import json\n",
    "from json import JSONEncoder\n",
    "import pprint\n"
   ]
  },
  {
   "cell_type": "markdown",
   "metadata": {},
   "source": [
    "Importa o IFC"
   ]
  },
  {
   "cell_type": "code",
   "execution_count": 141,
   "metadata": {},
   "outputs": [],
   "source": [
    "# Carrega o arquivo IFC\n",
    "ifcFile = ifcopenshell.open(\"816A-ARQ -PAV.TIPO-3D.R03.ifc\")"
   ]
  },
  {
   "cell_type": "markdown",
   "metadata": {},
   "source": [
    "Pega todos os elementos do IFC"
   ]
  },
  {
   "cell_type": "code",
   "execution_count": 142,
   "metadata": {},
   "outputs": [],
   "source": [
    "# Pega todos os elementos do Ifc\n",
    "elements = ifcFile.by_type(\"ifcBuildingElement\")\n",
    "\n",
    "# Listas para guardar os dados\n",
    "formatedElements = []\n",
    "formatedElementsInfo = []\n",
    "\n",
    "# Classe do elemento formatado como será salvo no JSON\n",
    "class FormatedElement:\n",
    "    def __init__(self, name, globalId, info, propertySets, material):\n",
    "        self.name = name\n",
    "        self.globalId = globalId\n",
    "        self.info = info\n",
    "        self.propertySets = psets\n",
    "        self.material = mat\n",
    "\n",
    "class FormatedProperty:\n",
    "    def __init__(self, name, unit, value):\n",
    "        self.name = name\n",
    "        self.unit = unit\n",
    "        self.value = value\n",
    "\n",
    "# Classe que configura o JSON para aceitar a classe\n",
    "class Encoder(JSONEncoder):\n",
    "    def default(self,o):\n",
    "        return o.__dict__\n",
    "\n",
    "# Função que irá realizar a extração de dados (futura)\n",
    "def PegaPropertySets(b):\n",
    "    a = 10 + b\n",
    "    return a \n",
    "\n",
    "# Cria um novo objeto com as propriedades definidas    \n",
    "for item in elements:\n",
    "    #info = item.get_info()\n",
    "    info = 0\n",
    "    psets = ifcopenshell.util.element.get_psets(item)\n",
    "    mat = ifcopenshell.util.element.get_material(item)    \n",
    "    formEle = FormatedElement(item.Name, item.GlobalId, info, psets, mat)\n",
    "    formatedElements.append(Encoder().encode(formEle))  \n",
    "    "
   ]
  },
  {
   "cell_type": "markdown",
   "metadata": {},
   "source": [
    "Salva um arquivo JSON"
   ]
  },
  {
   "cell_type": "code",
   "execution_count": 143,
   "metadata": {},
   "outputs": [
    {
     "name": "stdout",
     "output_type": "stream",
     "text": [
      "{   'globalId': '1cMniQlk18TwIHJRDWglrh',\n",
      "    'info': 0,\n",
      "    'material': None,\n",
      "    'name': 'Parede-006',\n",
      "    'propertySets': {   'ALVENARIAS (Expressão)': {   'Espessura da Argamassa': 10.0},\n",
      "                        'AYOSHII': {'AY - Comprimento': 1130.00009038},\n",
      "                        'BaseQuantities': {   'GrossFootprintArea': 0.190300019883,\n",
      "                                              'GrossSideArea': 2.64815027475,\n",
      "                                              'GrossVolume': 0.621153563481,\n",
      "                                              'Height': 3220.0,\n",
      "                                              'Length': 865.000090378,\n",
      "                                              'NetFootprintArea': 0.190300019883,\n",
      "                                              'NetSideArea': 1.17815027475,\n",
      "                                              'NetVolume': 0.297753563544,\n",
      "                                              'Width': 220.0},\n",
      "                        'CLASSIFICAÇÕES GERAIS': {'Transmissão Sonora': 0.0},\n",
      "                        'EXPRESSÕES DE TEXTO (Expressão)': {   'ID Dinâmico por Classificação': 'Parede '\n",
      "                                                                                                '-006'},\n",
      "                        'Pset_WallCommon': {'AcousticRating': '0'},\n",
      "                        'SUPERFÍCIES (Mapas)': {   'Área da Superfície da Face (Geral)': 1.13177503838},\n",
      "                        'VIDROS': {'Material Vidro': 'Conforme NBR'}}}\n"
     ]
    }
   ],
   "source": [
    "# Imprime o resultado de forma indentada \n",
    "#pp = pprint.PrettyPrinter(indent=4)\n",
    "#pp.pprint(json.loads(formatedElements[0]))\n",
    "\n",
    "# Salva um arquivo json\n",
    "with open('teste.json', 'w', encoding='utf8') as outfile:\n",
    "    for item in formatedElements:\n",
    "        json.dump(json.loads(item), outfile, indent=4, sort_keys=False, ensure_ascii=False)\n",
    "        outfile.write('\\n')\n",
    "\n",
    "\n"
   ]
  }
 ],
 "metadata": {
  "interpreter": {
   "hash": "f9502a4368447ccedec04e9f03b977d89f92472f3a21fd42211279b3f94a1bce"
  },
  "kernelspec": {
   "display_name": "Python 3.9.2 64-bit",
   "name": "python3"
  },
  "language_info": {
   "codemirror_mode": {
    "name": "ipython",
    "version": 3
   },
   "file_extension": ".py",
   "mimetype": "text/x-python",
   "name": "python",
   "nbconvert_exporter": "python",
   "pygments_lexer": "ipython3",
   "version": "3.9.2"
  },
  "orig_nbformat": 4
 },
 "nbformat": 4,
 "nbformat_minor": 2
}
